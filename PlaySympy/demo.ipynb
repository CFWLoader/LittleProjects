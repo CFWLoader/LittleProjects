{
 "cells": [
  {
   "cell_type": "code",
   "execution_count": 3,
   "metadata": {},
   "outputs": [
    {
     "data": {
      "image/png": "[encoded data removed]",
      "text/latex": [
       "$$\\int \\sqrt{\\frac{1}{x}}\\, dx$$"
      ],
      "text/plain": [
       "⌠           \n",
       "⎮     ___   \n",
       "⎮    ╱ 1    \n",
       "⎮   ╱  ─  dx\n",
       "⎮ ╲╱   x    \n",
       "⌡           "
      ]
     },
     "execution_count": 3,
     "metadata": {},
     "output_type": "execute_result"
    }
   ],
   "source": [
    "from sympy import *\n",
    "\n",
    "init_printing()\n",
    "# init_session()\n",
    "\n",
    "x = Symbol('x')\n",
    "\n",
    "Integral(sqrt(1/x), x)"
   ]
  },
  {
   "cell_type": "code",
   "execution_count": 4,
   "metadata": {},
   "outputs": [
    {
     "data": {
      "image/png": "[encoded data removed]",
      "text/latex": [
       "$$2 x \\sqrt{\\frac{1}{x}}$$"
      ],
      "text/plain": [
       "        ___\n",
       "       ╱ 1 \n",
       "2⋅x⋅  ╱  ─ \n",
       "    ╲╱   x "
      ]
     },
     "execution_count": 4,
     "metadata": {},
     "output_type": "execute_result"
    }
   ],
   "source": [
    "integrate(sqrt(1/x), x)"
   ]
  },
  {
   "cell_type": "code",
   "execution_count": 8,
   "metadata": {},
   "outputs": [
    {
     "data": {
      "image/png": "[encoded data removed]",
      "text/latex": [
       "$$\\int e^{\\sqrt{\\frac{1}{x^{2}}}}\\, dx$$"
      ],
      "text/plain": [
       "⌠              \n",
       "⎮       ____   \n",
       "⎮      ╱ 1     \n",
       "⎮     ╱  ──    \n",
       "⎮    ╱    2    \n",
       "⎮  ╲╱    x     \n",
       "⎮ ℯ          dx\n",
       "⌡              "
      ]
     },
     "execution_count": 8,
     "metadata": {},
     "output_type": "execute_result"
    }
   ],
   "source": [
    "expr1 = exp(sqrt(1/x**2))\n",
    "\n",
    "Integral(expr1, x)"
   ]
  },
  {
   "cell_type": "code",
   "execution_count": 9,
   "metadata": {},
   "outputs": [
    {
     "data": {
      "image/png": "[encoded data removed]",
      "text/latex": [
       "$$\\int e^{\\sqrt{\\frac{1}{x^{2}}}}\\, dx$$"
      ],
      "text/plain": [
       "⌠              \n",
       "⎮       ____   \n",
       "⎮      ╱ 1     \n",
       "⎮     ╱  ──    \n",
       "⎮    ╱    2    \n",
       "⎮  ╲╱    x     \n",
       "⎮ ℯ          dx\n",
       "⌡              "
      ]
     },
     "execution_count": 9,
     "metadata": {},
     "output_type": "execute_result"
    }
   ],
   "source": [
    "integrate(expr1, x)"
   ]
  },
  {
   "cell_type": "code",
   "execution_count": 10,
   "metadata": {},
   "outputs": [
    {
     "data": {
      "image/png": "[encoded data removed]",
      "text/latex": [
       "$$- \\frac{\\sqrt{\\frac{1}{x^{2}}} e^{\\sqrt{\\frac{1}{x^{2}}}}}{x}$$"
      ],
      "text/plain": [
       "                 ____ \n",
       "                ╱ 1   \n",
       "               ╱  ──  \n",
       "      ____    ╱    2  \n",
       "     ╱ 1    ╲╱    x   \n",
       "-   ╱  ── ⋅ℯ          \n",
       "   ╱    2             \n",
       " ╲╱    x              \n",
       "──────────────────────\n",
       "          x           "
      ]
     },
     "execution_count": 10,
     "metadata": {},
     "output_type": "execute_result"
    }
   ],
   "source": [
    "diff(expr1, x)"
   ]
  }
 ],
 "metadata": {
  "kernelspec": {
   "display_name": "Python 3",
   "language": "python",
   "name": "python3"
  },
  "language_info": {
   "codemirror_mode": {
    "name": "ipython",
    "version": 3
   },
   "file_extension": ".py",
   "mimetype": "text/x-python",
   "name": "python",
   "nbconvert_exporter": "python",
   "pygments_lexer": "ipython3",
   "version": "3.6.5"
  }
 },
 "nbformat": 4,
 "nbformat_minor": 2
}
